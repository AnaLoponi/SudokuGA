{
 "cells": [
  {
   "cell_type": "markdown",
   "id": "5a4c335d-1a2b-40e1-823c-6f31f303c380",
   "metadata": {},
   "source": [
    "Sudoku"
   ]
  },
  {
   "cell_type": "code",
   "execution_count": 37,
   "id": "a37034c4-fc0b-455c-84d9-038f311ff48c",
   "metadata": {},
   "outputs": [],
   "source": [
    "#importação de bibliotecas\n",
    "from random import randint, choice, uniform\n",
    "import copy"
   ]
  },
  {
   "cell_type": "code",
   "execution_count": 38,
   "id": "4a6b27ee-78b4-4f3d-82a8-034b948647d5",
   "metadata": {},
   "outputs": [],
   "source": [
    "# Função para criação do tabuleiro seguindo o template pré-definido acima\n",
    "def create_board()-> list:\n",
    "    \n",
    "    matrix = [\n",
    "        [0, 0, 0, 4],\n",
    "        [0, 0, 0, 0],\n",
    "        [2, 0, 0, 3],\n",
    "        [4, 0, 1, 2]\n",
    "    ]\n",
    "    return matrix"
   ]
  },
  {
   "cell_type": "code",
   "execution_count": 39,
   "id": "277b3ab4-30c9-4bd9-806a-49e928661f6c",
   "metadata": {},
   "outputs": [],
   "source": [
    "# Função para completar os espaços em branco com números aleatórios\n",
    "def fill_in_spaces(board: list, spaces: list) -> list:\n",
    "    def is_valid(board: list, num: int, row: int, col: int) -> bool:\n",
    "        # Verifica se o número já está presente na mesma linha\n",
    "        for i in range(4):\n",
    "            if board[row][i] == num:\n",
    "                return False\n",
    "        \n",
    "        # Verifica se o número já está presente na mesma coluna\n",
    "        for i in range(4):\n",
    "            if board[i][col] == num:\n",
    "                return False\n",
    "        \n",
    "        # Verifica se o número já está presente no mesmo bloco 2x2\n",
    "        start_row = (row // 2) * 2\n",
    "        start_col = (col // 2) * 2\n",
    "        for i in range(start_row, start_row + 2):\n",
    "            for j in range(start_col, start_col + 2):\n",
    "                if board[i][j] == num:\n",
    "                    return False\n",
    "        \n",
    "        return True\n",
    "\n",
    "    def solve(board: list, spaces: list) -> bool:\n",
    "        if len(spaces) == 0:\n",
    "            return True\n",
    "        \n",
    "        row, col = spaces[0]\n",
    "        for num in range(1, 5):\n",
    "            if is_valid(board, num, row, col):\n",
    "                board[row][col] = num\n",
    "                if solve(board, spaces[1:]):\n",
    "                    return True\n",
    "                board[row][col] = 0\n",
    "        \n",
    "        return False\n",
    "\n",
    "    solve(board, spaces)\n",
    "    return board"
   ]
  },
  {
   "cell_type": "code",
   "execution_count": 40,
   "id": "0d53b988-c395-4651-89b5-60be6f13af55",
   "metadata": {},
   "outputs": [],
   "source": [
    "# Função para exibir o tabuleiro de forma clara para o usuário\n",
    "def show_board(board: list):\n",
    "    print(f\"|{board[0][0]} {board[0][1]}| |{board[1][0]} {board[1][1]}|\")\n",
    "    print(f\"|{board[0][2]} {board[0][3]}| |{board[1][2]} {board[1][3]}|\", end='\\n\\n')\n",
    "    \n",
    "    print(f\"|{board[2][0]} {board[2][1]}| |{board[3][0]} {board[3][1]}|\")\n",
    "    print(f\"|{board[2][2]} {board[2][3]}| |{board[3][2]} {board[3][3]}|\", end='\\n\\n')"
   ]
  },
  {
   "cell_type": "code",
   "execution_count": 41,
   "id": "151b0546-6ade-4ff8-8ef8-76698a393b98",
   "metadata": {},
   "outputs": [],
   "source": [
    "# Funções para localizar os espaços em branco\n",
    "def find_spaces(state: list) -> list:\n",
    "    spaces = []\n",
    "    for submatrix in range(len(state)):\n",
    "        for cell in range (len(state[submatrix])):\n",
    "            if state[submatrix][cell] == 0:\n",
    "                spaces.append((submatrix, cell))\n",
    "    return spaces"
   ]
  },
  {
   "cell_type": "code",
   "execution_count": 42,
   "id": "5261c65a-258a-4b3a-a064-ed255bceed0d",
   "metadata": {
    "tags": []
   },
   "outputs": [],
   "source": [
    "# Função para calcular a quantidade de conflitos no tabuleiro\n",
    "def calculate_conflicts(state: list) -> int:\n",
    "    conflicts = 0\n",
    "    \n",
    "    # Verificando conflitos dentro das submatrizes\n",
    "    for submatrix in range (len(state)):\n",
    "        numbers_conflicted_submatrix = []\n",
    "        for cell in range (len(state[submatrix])):\n",
    "            number = state[submatrix][cell]\n",
    "            if number not in numbers_conflicted_submatrix:\n",
    "                quantity_conflicted_submatrix = state[submatrix].count(number)\n",
    "                if quantity_conflicted_submatrix > 1:\n",
    "                    conflicts += quantity_conflicted_submatrix-1\n",
    "                    numbers_conflicted_submatrix.append(number)\n",
    "    \n",
    "    # Verificando conflito na linha\n",
    "    lines = converct_lines(state)\n",
    "    for line in range(len(lines)):\n",
    "        numbers_conflicted_lines = []\n",
    "        for cell in range (len(lines[line])):\n",
    "            number = lines[line][cell]\n",
    "            if number not in numbers_conflicted_lines:\n",
    "                quantity_conflicted_line = lines[line].count(number)\n",
    "                if quantity_conflicted_line > 1:\n",
    "                    conflicts += quantity_conflicted_line-1\n",
    "                    numbers_conflicted_lines.append(number)\n",
    "                    \n",
    "    # Verificando conflitos na coluna\n",
    "    colunas = converct_colunas(state)\n",
    "    for coluna in range(len(colunas)):\n",
    "        numbers_conflicted_colunas = []\n",
    "        for cell in range(len(colunas[coluna])):\n",
    "            number = colunas[coluna][cell]\n",
    "            if number not in numbers_conflicted_colunas:\n",
    "                quantity_conflicted_coluna = colunas[coluna].count(number)\n",
    "                if quantity_conflicted_coluna > 1:\n",
    "                    conflicts += quantity_conflicted_coluna-1\n",
    "                    numbers_conflicted_colunas.append(number)\n",
    "            \n",
    "    return conflicts"
   ]
  },
  {
   "cell_type": "code",
   "execution_count": 43,
   "id": "5b739418-2363-40e7-b447-346f7be167f1",
   "metadata": {},
   "outputs": [],
   "source": [
    "# Função para criar as linhas do tabuleiro para verificação de conflito\n",
    "def converct_lines(state: list) -> list:\n",
    "    lines = []\n",
    "    \n",
    "    lines.append(state[0][0:2] + state[1][0:2])\n",
    "    lines.append(state[0][2:4] + state[1][2:4])\n",
    "    lines.append(state[2][0:2] + state[3][0:2])\n",
    "    lines.append(state[2][2:4] + state[3][2:4])\n",
    "    \n",
    "    return lines"
   ]
  },
  {
   "cell_type": "code",
   "execution_count": 44,
   "id": "e6651049-c6e1-4d4e-ac5f-cedaa95f88a8",
   "metadata": {},
   "outputs": [],
   "source": [
    "def converct_colunas(state: list) -> list:\n",
    "    colunas = []\n",
    "    \n",
    "    colunas.append([state[0][0], state[0][2], state[2][0], state[2][2]])\n",
    "    colunas.append([state[0][1], state[0][3], state[2][1], state[2][3]])\n",
    "    colunas.append([state[1][0], state[1][2], state[3][0], state[3][2]])\n",
    "    colunas.append([state[1][1], state[1][3], state[3][1], state[3][3]])\n",
    "    \n",
    "    return colunas"
   ]
  },
  {
   "cell_type": "code",
   "execution_count": 45,
   "id": "996c7d06-c0be-47d2-8746-6a7f393ce1ad",
   "metadata": {},
   "outputs": [],
   "source": [
    "# Função para gerar a população inicial\n",
    "#def populacao_inicial(populacao_size: int, empty_spaces: list) -> list:\n",
    "    #populacao = []\n",
    "    #for individual in range(populacao_size):\n",
    "        #board = create_board()\n",
    "        #board = fill_in_spaces(board, empty_spaces)\n",
    "        #populacao.append(board)\n",
    "    #return populacao\n",
    "\n",
    "def populacao_inicial(populacao_size: int, empty_spaces: list) -> list:\n",
    "    populacao = []\n",
    "    for individual in range(populacao_size):\n",
    "        board = create_board()\n",
    "        filled_board = fill_in_spaces(board, empty_spaces)\n",
    "        populacao.append(filled_board)\n",
    "    return populacao"
   ]
  },
  {
   "cell_type": "code",
   "execution_count": 46,
   "id": "d5ffa834-8af8-49b5-826b-7fcc801eff5b",
   "metadata": {},
   "outputs": [],
   "source": [
    "# Função de Cross Over (Cruzamento) de indivíduos\n",
    "def cross_over(genome_1: list, genome_2: list) -> list:\n",
    "    g_1 = copy.deepcopy(genome_1)\n",
    "    g_2 = copy.deepcopy(genome_2)\n",
    "    cut = randint(0, len(g_1)-1)\n",
    "    return g_1[:cut] + g_2[cut:], g_2[:cut] + g_1[cut:]"
   ]
  },
  {
   "cell_type": "code",
   "execution_count": 47,
   "id": "9ada4ca2-4c5d-449a-aa0e-e86158bcbac0",
   "metadata": {},
   "outputs": [],
   "source": [
    "# Função de Mutação que altera uma quantidade específica de elementos da submatriz\n",
    "def mutation(state: list, quantity_mutations: int, empty_spaces: list) -> list:\n",
    "    empty_spaces_local = copy.deepcopy(empty_spaces)\n",
    "    for quantity in range(quantity_mutations):\n",
    "        space = choice(empty_spaces_local)\n",
    "        empty_spaces_local.remove(space)\n",
    "        number = randint(1, 4)\n",
    "        while number == state[space[0]][space[1]]:\n",
    "            number = randint(1, 4)\n",
    "        state[space[0]][space[1]] = number\n",
    "    return state"
   ]
  },
  {
   "cell_type": "code",
   "execution_count": 48,
   "id": "29eb0f31-5619-4079-9613-0de22f8f2814",
   "metadata": {},
   "outputs": [],
   "source": [
    "# Função fitness para avaliar a população\n",
    "def fitness(populacao: list) -> list:\n",
    "    fitness_values = []\n",
    "    for individual in populacao:\n",
    "        fitness_values.append(1 - calculate_conflicts(individual)/36)\n",
    "    return fitness_values"
   ]
  },
  {
   "cell_type": "code",
   "execution_count": 49,
   "id": "dd95d3f7-0ecf-4f4a-adec-3052219a6e0f",
   "metadata": {},
   "outputs": [],
   "source": [
    "# Função de Roleta Viciada para selecionar indivíduos\n",
    "def addicted_roulette(populacao: list, fitness: list) -> list:\n",
    "    fitness_total = sum(fitness)\n",
    "    fractions = [f/fitness_total for f in fitness]\n",
    "    random_number = uniform(0,1)\n",
    "    acum = 0\n",
    "    for i, individual in enumerate(populacao):\n",
    "        acum += fractions[i]\n",
    "        if acum >= random_number:\n",
    "            return individual\n",
    "        \n",
    "    return choice(populacao)"
   ]
  },
  {
   "cell_type": "code",
   "execution_count": 50,
   "id": "7767efe8-a18b-4a74-b53c-78b101fa196c",
   "metadata": {},
   "outputs": [],
   "source": [
    "# Função utilizada para selecionar uma determinada quantidade de casais reprodutores\n",
    "def natural_selection(populacao: list, number_breeding_couples: int) -> list:\n",
    "    selection = []\n",
    "    fitness_value = fitness(populacao)\n",
    "    for individual in range(2*number_breeding_couples):\n",
    "        selection.append(addicted_roulette(populacao, fitness_value))\n",
    "    return selection"
   ]
  },
  {
   "cell_type": "code",
   "execution_count": 51,
   "id": "6aff6b02-d3c8-462b-9d63-f9710e1ecd06",
   "metadata": {},
   "outputs": [],
   "source": [
    "# Função para verificar se a meta foi alcançada\n",
    "def meta_test(populacao: list):\n",
    "    fitness_value = fitness(populacao)\n",
    "    try:\n",
    "        position_meta = fitness_value.index(1)\n",
    "        return populacao[position_meta]\n",
    "    except (ValueError):\n",
    "        return -1"
   ]
  },
  {
   "cell_type": "code",
   "execution_count": 52,
   "id": "170a00c5-f232-4d52-a627-e2ba67055534",
   "metadata": {},
   "outputs": [],
   "source": [
    "# Função para localizar o melhor indivíduo da geração\n",
    "def best_individual(populacao: list) -> list:\n",
    "    fitness_value = fitness(populacao)\n",
    "    position = fitness_value.index(max(fitness_value))\n",
    "    return (populacao[position], fitness_value[position])"
   ]
  },
  {
   "cell_type": "code",
   "execution_count": 53,
   "id": "19a986a8-9e17-4643-9f50-9f2d7cf9fb78",
   "metadata": {},
   "outputs": [],
   "source": [
    "# Função do Algoritmo Genético\n",
    "def genetic(populacao_size: int, generations: int, empty_spaces: list, quantity_mutations: int, mutation_percentage: int, number_breeding_couples: int):\n",
    "    \n",
    "    populacao = populacao_inicial(populacao_size, empty_spaces)\n",
    "    best = best_individual(populacao)\n",
    "    print(f\" Melhor indivíduo da geração 0 com fitness: {best[1]}\")\n",
    "    \n",
    "    for generation in range(generations):\n",
    "        print(f\"Geração: {generation}\")\n",
    "        \n",
    "        meta = meta_test(populacao)\n",
    "        if meta != -1:\n",
    "            print(f\"\\nSolução Encontrada na Geração: {generation}\\n\")\n",
    "            return show_board(meta)\n",
    "        else:\n",
    "            best_generation = best_individual(populacao)\n",
    "            if best_generation[1] > best[1]:\n",
    "                best = best_geration\n",
    "                print(f'Novo melhor fitness com valor: {best[1]}')\n",
    "        \n",
    "        nova_populacao = []\n",
    "        breeders = natural_selection(populacao, number_breeding_couples)\n",
    "        males = breeders[:number_breeding_couples]\n",
    "        females = breeders[number_breeding_couples:]\n",
    "        for male, female in zip(males, females):\n",
    "            son_1, son_2 = cross_over(male, female)\n",
    "            nova_populacao.append(son_1)\n",
    "            nova_populacao.append(son_2)\n",
    "            \n",
    "        meta = meta_test(nova_populacao)\n",
    "        if meta != -1:\n",
    "            print(f\"\\nSolução Encontrada na Geração: {generation}\\n\")\n",
    "            return show_board(meta)\n",
    "        else:\n",
    "            best_geration = best_individual(nova_populacao)\n",
    "            if best_geration[1] > best[1]:\n",
    "                best = best_geration\n",
    "                print(f\"Novo Melhor fitness com valor: {best[1]}\")\n",
    "        \n",
    "        for individual in nova_populacao:\n",
    "            if randint(0, 100) < mutation_percentage:\n",
    "                individual = mutation(individual, quantity_mutations, empty_spaces)\n",
    "        \n",
    "        populacao = nova_populacao\n",
    "        \n",
    "    print(f\"\\nALGORITMO ENCERRADO DEVIDO AO NÚMERO DE GERAÇÕES SEM ENCONTRAR UM RESULTADO SATISFATÓRIO.\\nO MELHOR INDIVÍDUO OBTEVE O FITNESS DE {best[1]}.\\n\\n\")\n",
    "    return show_board(best[0])"
   ]
  },
  {
   "cell_type": "code",
   "execution_count": 54,
   "id": "17a2c190-28ab-442b-a3ed-e8666a5b2acd",
   "metadata": {},
   "outputs": [
    {
     "name": "stdout",
     "output_type": "stream",
     "text": [
      " Melhor indivíduo da geração 0 com fitness: 1.0\n",
      "Geração: 0\n",
      "\n",
      "Solução Encontrada na Geração: 0\n",
      "\n",
      "|1 2| |3 4|\n",
      "|3 4| |2 1|\n",
      "\n",
      "|2 1| |4 3|\n",
      "|4 3| |1 2|\n",
      "\n"
     ]
    }
   ],
   "source": [
    "# Configurações iniciais do algoritmo genético\n",
    "populacao_size = 1000\n",
    "generations = 10000\n",
    "empty_spaces = find_spaces(create_board())\n",
    "\n",
    "quantity_mutations = 5\n",
    "if quantity_mutations > len(empty_spaces):\n",
    "    raise ValueError (\"O número de valores alterado por mutação é maior que os espaços vazios!\")\n",
    "    \n",
    "mutation_percentage = 50\n",
    "if mutation_percentage > 100:\n",
    "    raise ValueError (\"A porcentagem de chance de mutação é maior que 100%\")\n",
    "\n",
    "number_breeding_couples = 4\n",
    "\n",
    "# inicialização do algoritmo genético\n",
    "genetic(populacao_size, generations, empty_spaces, quantity_mutations, mutation_percentage, number_breeding_couples)"
   ]
  },
  {
   "cell_type": "markdown",
   "id": "3abb58bd-1a9a-4df9-a1ce-b01cf6df7a4c",
   "metadata": {},
   "source": [
    "### "
   ]
  },
  {
   "cell_type": "code",
   "execution_count": null,
   "id": "aa0b55cc-d2a3-4c5f-b577-4b0406feded2",
   "metadata": {},
   "outputs": [],
   "source": []
  }
 ],
 "metadata": {
  "kernelspec": {
   "display_name": "ilumpy",
   "language": "python",
   "name": "ilumpy"
  },
  "language_info": {
   "codemirror_mode": {
    "name": "ipython",
    "version": 3
   },
   "file_extension": ".py",
   "mimetype": "text/x-python",
   "name": "python",
   "nbconvert_exporter": "python",
   "pygments_lexer": "ipython3",
   "version": "3.9.7"
  }
 },
 "nbformat": 4,
 "nbformat_minor": 5
}
